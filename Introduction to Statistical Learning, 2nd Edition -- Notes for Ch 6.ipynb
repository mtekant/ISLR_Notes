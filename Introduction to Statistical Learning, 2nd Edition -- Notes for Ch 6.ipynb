{
 "cells": [
  {
   "cell_type": "markdown",
   "metadata": {},
   "source": [
    "# <b>Introduction to Statistical Learning, 2nd Edition</b>\n",
    "## by James, Witten, Hastie, Tibshirani\n",
    "\n",
    "### Notes by Melis Tekant"
   ]
  },
  {
   "cell_type": "markdown",
   "metadata": {},
   "source": [
    "## Chapter 6  - Linear Model Selection and Regularization"
   ]
  },
  {
   "cell_type": "code",
   "execution_count": 129,
   "metadata": {},
   "outputs": [],
   "source": [
    "import pandas as pd\n",
    "import numpy as np\n",
    "import matplotlib as mpl\n",
    "pd.plotting.register_matplotlib_converters()\n",
    "import matplotlib.pyplot as plt\n",
    "from matplotlib import cm\n",
    "%matplotlib inline\n",
    "import seaborn as sns\n",
    "from sklearn.model_selection import train_test_split, LeaveOneOut, KFold\n",
    "from sklearn.preprocessing import PolynomialFeatures\n",
    "from sklearn.linear_model import LinearRegression\n",
    "from scipy.stats import multivariate_normal\n",
    "from sklearn.linear_model import LogisticRegression\n",
    "from sklearn.metrics import accuracy_score, mean_squared_error\n",
    "from sklearn.neighbors import KNeighborsClassifier\n",
    "import random\n",
    "import scipy.stats as st\n",
    "import itertools"
   ]
  },
  {
   "cell_type": "markdown",
   "metadata": {},
   "source": [
    "Linear models are often quite competitive in real-world problems, and have the advantage of interpretability. These models can be improved by using fitting procedures other than least squares, such as subset selection, shrinkage, and dimension reduction.\n",
    "\n",
    "Subset selection:\n",
    "\n",
    "- Best subset selection: fit least squares regression for each combination of p predictors (leading to $2^p$ models) and identify the best. Do this by setting $M_0$ as the null model with no predictors, then for k = 1,2,...,p, fit all ${p \\choose k}$ models with k predictors, pick the best among them (one which has the lowest RSS), and label it $M_k$. (For logistic regression, instead of RSS, $\\textit{deviance} = -2ln(L)$ is used.) Then select the best $M_k$ using cross-validated prediction error, $C_p$, AIC, BIC, or adjusted R-squared. This way, the number of stored models reduces to p+1. This method is highly computationally intensive, so for large values of p, computational shortcuts (branch-and-bound techniques) can be used to eliminate some choices, or alternative methods that are more computationally efficient can be used. \n",
    "\n",
    "AIC: Akaike information criterion, $\\propto C_p$, Mallows score here. It is a relative estimator, where the lower the value is, the better the model is. It is often used for time series data. \n",
    "AIC $ = -2ln(L) + 2k$, where the $ln(L)$ term denotes the log-likelihood, and $k$ is the number of parameters, acting as a penalty for the AIC value.\n",
    "\n",
    "(Note: this definition differs from the definition in the book: $C_p = \\frac{1}{n}(RSS + 2k \\hat \\sigma^2)$, yet they are equivalent for a Linear model, given that the residuals are normally distributed.  \n",
    "\n",
    "This can be shown via the following: Given the response $y = \\omega X + \\epsilon$, where $\\epsilon \\sim N(0,\\sigma)$, the maxmimum likelihood is calculated by \n",
    "\n",
    "$$ L = \\frac{1}{(2 \\pi)^{N/2} \\sigma^N} e^{-\\frac{\\sum(y-\\omega X)^2}{2\\sigma^2}}.$$\n",
    "\n",
    "Therefore, $ln(L) = A + (-\\frac{\\sum(y-\\omega X)^2}{2 \\sigma^2})$, where A is a constant involving N and $\\sigma$. \n",
    "\n",
    "Since $C_p$ is a relative estimator, it can be scaled, and constants can be added or removed from it, given that the process is done for each value that will be compared. \n",
    "\n",
    "Scaling the definition of $C_p$ in the text by $n/\\hat \\sigma^2$ gives equivalent results to the above definition with an additional constant and a scaling factor.)\n",
    "\n",
    "BIC: Bayesian information criterion. Similar to AIC, but a different penalty term for complexity.\n",
    "BIC $= -2ln(L) + ln(n)k$ $(\\propto \\frac{1}{n}(RSS+log(n)k\\hat\\sigma^2)$, where n is the number of data points. For n>7, this model places a larger penalty for k, so it typically selects for smaller number of predictors when compared to AIC. \n",
    "\n",
    "Adjusted R-squared: R-squared model that has been modified for the number of predictors, to penalize increasing k to prevent overfitting. \n",
    "\n",
    "$R^2 = 1- \\frac{RSS}{TSS}$, where TSS = $\\sum(y_i-\\bar y)^2$.\n",
    "\n",
    "Adjusted $R^2 = 1-\\frac{RSS/(n-k-1)}{TSS/(n-1)}$.\n",
    "\n",
    "Alternatively, test error can be estimated using validation set and cross-validation methods, which make fewer assumptions about the true model, and can be used even when $\\sigma$ or k is hard to estimate."
   ]
  },
  {
   "cell_type": "code",
   "execution_count": 47,
   "metadata": {},
   "outputs": [
    {
     "data": {
      "text/plain": [
       "Index(['Income', 'Limit', 'Rating', 'Cards', 'Age', 'Education', 'Own',\n",
       "       'Student', 'Married', 'Region', 'Balance'],\n",
       "      dtype='object')"
      ]
     },
     "execution_count": 47,
     "metadata": {},
     "output_type": "execute_result"
    }
   ],
   "source": [
    "credit = pd.read_csv('/Users/melistekant/Documents/Python Projects/ISLR2/Credit.csv')\n",
    "credit.columns"
   ]
  },
  {
   "cell_type": "code",
   "execution_count": 48,
   "metadata": {},
   "outputs": [
    {
     "data": {
      "text/html": [
       "<div>\n",
       "<style scoped>\n",
       "    .dataframe tbody tr th:only-of-type {\n",
       "        vertical-align: middle;\n",
       "    }\n",
       "\n",
       "    .dataframe tbody tr th {\n",
       "        vertical-align: top;\n",
       "    }\n",
       "\n",
       "    .dataframe thead th {\n",
       "        text-align: right;\n",
       "    }\n",
       "</style>\n",
       "<table border=\"1\" class=\"dataframe\">\n",
       "  <thead>\n",
       "    <tr style=\"text-align: right;\">\n",
       "      <th></th>\n",
       "      <th>Income</th>\n",
       "      <th>Limit</th>\n",
       "      <th>Rating</th>\n",
       "      <th>Cards</th>\n",
       "      <th>Age</th>\n",
       "      <th>Education</th>\n",
       "      <th>Own</th>\n",
       "      <th>Student</th>\n",
       "      <th>Married</th>\n",
       "      <th>Balance</th>\n",
       "      <th>West</th>\n",
       "      <th>South</th>\n",
       "    </tr>\n",
       "  </thead>\n",
       "  <tbody>\n",
       "    <tr>\n",
       "      <th>0</th>\n",
       "      <td>14.891</td>\n",
       "      <td>3606</td>\n",
       "      <td>283</td>\n",
       "      <td>2</td>\n",
       "      <td>34</td>\n",
       "      <td>11</td>\n",
       "      <td>1</td>\n",
       "      <td>0</td>\n",
       "      <td>0</td>\n",
       "      <td>333</td>\n",
       "      <td>0</td>\n",
       "      <td>1</td>\n",
       "    </tr>\n",
       "    <tr>\n",
       "      <th>1</th>\n",
       "      <td>106.025</td>\n",
       "      <td>6645</td>\n",
       "      <td>483</td>\n",
       "      <td>3</td>\n",
       "      <td>82</td>\n",
       "      <td>15</td>\n",
       "      <td>1</td>\n",
       "      <td>1</td>\n",
       "      <td>1</td>\n",
       "      <td>903</td>\n",
       "      <td>1</td>\n",
       "      <td>0</td>\n",
       "    </tr>\n",
       "    <tr>\n",
       "      <th>2</th>\n",
       "      <td>104.593</td>\n",
       "      <td>7075</td>\n",
       "      <td>514</td>\n",
       "      <td>4</td>\n",
       "      <td>71</td>\n",
       "      <td>11</td>\n",
       "      <td>0</td>\n",
       "      <td>0</td>\n",
       "      <td>0</td>\n",
       "      <td>580</td>\n",
       "      <td>1</td>\n",
       "      <td>0</td>\n",
       "    </tr>\n",
       "    <tr>\n",
       "      <th>3</th>\n",
       "      <td>148.924</td>\n",
       "      <td>9504</td>\n",
       "      <td>681</td>\n",
       "      <td>3</td>\n",
       "      <td>36</td>\n",
       "      <td>11</td>\n",
       "      <td>0</td>\n",
       "      <td>0</td>\n",
       "      <td>1</td>\n",
       "      <td>964</td>\n",
       "      <td>1</td>\n",
       "      <td>0</td>\n",
       "    </tr>\n",
       "    <tr>\n",
       "      <th>4</th>\n",
       "      <td>55.882</td>\n",
       "      <td>4897</td>\n",
       "      <td>357</td>\n",
       "      <td>2</td>\n",
       "      <td>68</td>\n",
       "      <td>16</td>\n",
       "      <td>1</td>\n",
       "      <td>0</td>\n",
       "      <td>0</td>\n",
       "      <td>331</td>\n",
       "      <td>0</td>\n",
       "      <td>1</td>\n",
       "    </tr>\n",
       "  </tbody>\n",
       "</table>\n",
       "</div>"
      ],
      "text/plain": [
       "    Income  Limit  Rating  Cards  Age  Education  Own  Student  Married  \\\n",
       "0   14.891   3606     283      2   34         11    1        0        0   \n",
       "1  106.025   6645     483      3   82         15    1        1        1   \n",
       "2  104.593   7075     514      4   71         11    0        0        0   \n",
       "3  148.924   9504     681      3   36         11    0        0        1   \n",
       "4   55.882   4897     357      2   68         16    1        0        0   \n",
       "\n",
       "   Balance  West  South  \n",
       "0      333     0      1  \n",
       "1      903     1      0  \n",
       "2      580     1      0  \n",
       "3      964     1      0  \n",
       "4      331     0      1  "
      ]
     },
     "execution_count": 48,
     "metadata": {},
     "output_type": "execute_result"
    }
   ],
   "source": [
    "# Separate Region into 2 dummy variables\n",
    "\n",
    "dummy_south = np.zeros(len(credit.Region))\n",
    "dummy_west = np.zeros(len(credit.Region))\n",
    "dummy_south[credit.Region == 'South'] = 1 \n",
    "dummy_west[credit.Region == 'West'] = 1\n",
    "credit2 = credit.drop(columns = 'Region', axis =1)\n",
    "credit2['West'] = dummy_west.astype('int')\n",
    "credit2['South'] = dummy_south.astype('int')\n",
    "\n",
    "yndict = {'Yes':1, 'No': 0}\n",
    "credit2[['Own','Student','Married']] = credit2[{'Own','Student','Married'}].applymap(lambda x: yndict[x])\n",
    "credit2.head()"
   ]
  },
  {
   "cell_type": "code",
   "execution_count": 89,
   "metadata": {},
   "outputs": [],
   "source": [
    "model = LinearRegression()\n",
    "\n",
    "def RSS_Rsq_Eval(X,y,k):\n",
    "    RSS_i = []\n",
    "    features = []\n",
    "    Rsq_i = []\n",
    "    for combo in itertools.combinations(X.columns,k):\n",
    "        model.fit(X[list(combo)],y)\n",
    "        ypred = model.predict(X[list(combo)])\n",
    "        RSS = mean_squared_error(y,ypred) *len(y)\n",
    "        RSS_i.append(RSS)\n",
    "        features.append(list(combo))\n",
    "        R_sq = model.score(X[list(combo)],y)\n",
    "        Rsq_i.append(R_sq)  \n",
    "    return RSS_i, Rsq_i, features"
   ]
  },
  {
   "cell_type": "code",
   "execution_count": 102,
   "metadata": {},
   "outputs": [],
   "source": [
    "y = credit2.Balance\n",
    "X = credit2.drop(columns = 'Balance',axis=1)\n",
    "knum = np.arange(1,len(credit2.columns))\n",
    "df = pd.DataFrame(columns = ['k','RSS','R_sq','Features'])\n",
    "\n",
    "for i in knum:\n",
    "    RSS_i,Rsq_i,feats = RSS_Rsq_Eval(X,y,i)\n",
    "    df_mini = pd.DataFrame({'k':i,'RSS':RSS_i,'R_sq':Rsq_i,'Features':feats})\n",
    "    df = pd.concat([df,df_mini])\n",
    "\n",
    "df.reset_index();"
   ]
  },
  {
   "cell_type": "code",
   "execution_count": 171,
   "metadata": {
    "scrolled": true
   },
   "outputs": [
    {
     "data": {
      "image/png": "[encoded data removed]",
      "text/plain": [
       "<Figure size 864x288 with 2 Axes>"
      ]
     },
     "metadata": {
      "needs_background": "light"
     },
     "output_type": "display_data"
    }
   ],
   "source": [
    "plt.subplots(figsize=(12,4))\n",
    "plt.subplot(1,2,1)\n",
    "sns.scatterplot(x = 'k', y = 'RSS', data = df, color = 'gray', alpha = 0.5)\n",
    "RSS_min = df.groupby('k')['RSS'].apply(min)\n",
    "plt.plot(RSS_min.index,RSS_min.values, c = 'r')\n",
    "\n",
    "plt.subplot(1,2,2)\n",
    "sns.scatterplot(x = 'k', y = 'R_sq', data = df, color = 'gray', alpha = 0.5)\n",
    "Rsq_max = df.groupby('k')['R_sq'].apply(max)\n",
    "plt.plot(Rsq_max.index,Rsq_max.values, c= 'r');\n"
   ]
  },
  {
   "cell_type": "code",
   "execution_count": 132,
   "metadata": {},
   "outputs": [],
   "source": [
    "# Let's repeat above steps for the other metrics: C_p, BIC, \n",
    "# and adjusted R-squared, using the definitions in the textbook.\n",
    "\n",
    "n = len(credit2)\n",
    "sigma_est = min(RSS_min)/(n-max(knum)-1)\n",
    "\n",
    "df['Cp'] = (1/n)*(df.RSS + 2* df.k *sigma_est)\n",
    "df['BIC'] = (1/n)*(df.RSS + np.log(n)*df.k*sigma_est)\n",
    "df['Adj_Rsq'] = 1- (df.RSS/(n-df.k-1))/(df.RSS/(1-df.R_sq) / (n-1))"
   ]
  },
  {
   "cell_type": "code",
   "execution_count": 170,
   "metadata": {},
   "outputs": [
    {
     "data": {
      "image/png": "[encoded data removed]",
      "text/plain": [
       "<Figure size 1296x432 with 3 Axes>"
      ]
     },
     "metadata": {
      "needs_background": "light"
     },
     "output_type": "display_data"
    }
   ],
   "source": [
    "Cp_min = df.groupby('k')['Cp'].apply(min)\n",
    "BIC_min = df.groupby('k')['BIC'].apply(min)\n",
    "Adj_Rsq_max = df.groupby('k')['Adj_Rsq'].apply(max)\n",
    "\n",
    "plt.subplots(figsize=(18,6))\n",
    "plt.subplot(1,3,1)\n",
    "sns.scatterplot(x = Cp_min.index,y = Cp_min.values,color='blue')\n",
    "sns.lineplot(x = Cp_min.index,y = Cp_min.values,color='darkred')\n",
    "plt.scatter(x = Cp_min.idxmin(), y = Cp_min.min(), marker = 'X', c = 'lightblue', s = 500)\n",
    "plt.xlabel('Number of predictors')\n",
    "plt.ylabel('C_p')\n",
    "\n",
    "plt.subplot(1,3,2)\n",
    "sns.scatterplot(x = BIC_min.index, y = BIC_min.values,color='blue')\n",
    "sns.lineplot(x = BIC_min.index,y = BIC_min.values,color='darkred')\n",
    "plt.scatter(x = BIC_min.idxmin(), y = BIC_min.min(), marker = 'X', c = 'lightblue', s = 500)\n",
    "\n",
    "plt.ylabel('BIC')\n",
    "plt.xlabel('Number of predictors')\n",
    "\n",
    "plt.subplot(1,3,3)\n",
    "sns.scatterplot(x = Adj_Rsq_max.index, y = Adj_Rsq_max.values,color='blue')\n",
    "sns.lineplot(x = Adj_Rsq_max.index,y = Adj_Rsq_max.values,color='darkred')\n",
    "plt.scatter(x = Adj_Rsq_max.idxmax(), y = Adj_Rsq_max.max(), marker = 'X', c = 'lightblue', s = 500)\n",
    "plt.ylabel('Adjusted R-squared')\n",
    "plt.xlabel('Number of predictors');\n"
   ]
  },
  {
   "cell_type": "markdown",
   "metadata": {},
   "source": [
    "If the error vs. k graph is quite flat, use the 'one-standard-error rule': calculate standard error and estimate MSE for each k. Select the simplest (smallest k) model for which test error is within one standard error of the lowest error value. "
   ]
  },
  {
   "cell_type": "markdown",
   "metadata": {},
   "source": [
    "- Stepwise selection: For large p where best subset selection might not be usable, stepwise methods, which test much more restricted models, can be used.\n",
    "    \n",
    "     Forward stepwise selection: Start with no predictors ($M_0$) and add one predictor at a time (the one that gives the greatest additional improvement to the fit, measured by lowest RSS or highest R-squared, call $M_k$ for k predictors in the model) until all are in the model. This leads to $1+p(p+1)/2$ fits instead of $2^p$. Select the best $M_k$ using cross-validated prediction error, AIC, BIC, or adjusted R-squared. \n",
    "     \n",
    "     Backward stepwise selection: Similar to forward stewpsie selection, but start with all predictors, and remove predictors one at a time, selecting the best k-1 predictors (given by lowest RSS or highest R-squared value) at each step, then find best $M_k$ by one of the metrics outlined above. This method requires n>p, while forward stepwise selection does not. \n",
    "     \n",
    "     Hybrid approaches: Predictors are added to the model, but can also be removed, if they do not provide improvement in the new fit. This approach tries to marry the subset selection model with the computational advantages of stepwise selection methods. "
   ]
  },
  {
   "cell_type": "code",
   "execution_count": 358,
   "metadata": {},
   "outputs": [
    {
     "name": "stdout",
     "output_type": "stream",
     "text": [
      "Forward stepwise method:\n",
      "   k       Rsq                          features\n",
      "0  1  0.745848                          [Rating]\n",
      "0  2  0.875118                  [Rating, Income]\n",
      "0  3  0.949879         [Rating, Income, Student]\n",
      "0  4  0.952188  [Rating, Income, Student, Limit]\n",
      "\n",
      "Best subset method:\n",
      "   k       Rsq                             features\n",
      "0  1  0.745848                         [[[Rating]]]\n",
      "1  2  0.875118                 [[[Income, Rating]]]\n",
      "2  3  0.949879        [[[Income, Rating, Student]]]\n",
      "3  4  0.953580  [[[Income, Limit, Cards, Student]]]\n"
     ]
    }
   ],
   "source": [
    "# Forward stepwise\n",
    "\n",
    "stepwise_df = pd.DataFrame(columns = ['k','Rsq','features'])\n",
    "\n",
    "for k in knum:\n",
    "    feats_k = []\n",
    "    Rsq_k = []\n",
    "    if k!= knum[0]: \n",
    "        Xset = X.drop(columns = stepwise_df['features'].iloc[-1],axis=1)\n",
    "    else:\n",
    "        Xset = X\n",
    "    for i in Xset.columns:\n",
    "        Xchoose = Xset[[i]]\n",
    "        if k != knum[0]:\n",
    "            #Xsubset_i = pd.concat([X[[stepwise_df['features'].iloc[-1]]],Xchoose],axis =1)\n",
    "            Xsubset_i = pd.concat([Xsubset,Xchoose],axis=1)\n",
    "        else:\n",
    "            Xsubset_i = Xchoose\n",
    "        model.fit(Xsubset_i,y)\n",
    "        Rsq_i = model.score(Xsubset_i,y)\n",
    "        Rsq_k.append(Rsq_i)\n",
    "        feats_k.append(Xsubset_i.columns)\n",
    "    Rsqmax = max(Rsq_k)\n",
    "    Ridx = Rsq_k.index(Rsqmax)\n",
    "    stepwise_df_k = pd.DataFrame({'k': k, 'Rsq': Rsqmax, 'features':[feats_k[Ridx].tolist()]})\n",
    "    if k == knum[0]:\n",
    "        stepwise_df = stepwise_df_k\n",
    "        Xsubset = X[feats_k[Ridx]]\n",
    "    else:\n",
    "        stepwise_df = pd.concat([stepwise_df,stepwise_df_k])\n",
    "        Xsubset = pd.concat([Xsubset,X[feats_k[Ridx][-1]]],axis=1)\n",
    "\n",
    "        \n",
    "print('Forward stepwise method:')        \n",
    "print(stepwise_df[0:4])\n",
    "\n",
    "print('')\n",
    "\n",
    "feats = []\n",
    "for i in Rsq_max.values:\n",
    "    feats.append([df['Features'][df['R_sq'] == i]])\n",
    "\n",
    "best_df = pd.DataFrame({'k':Rsq_max.index, 'Rsq': Rsq_max.values, 'features':feats})\n",
    "    \n",
    "print('Best subset method:')\n",
    "\n",
    "print(best_df[0:4])\n"
   ]
  }
 ],
 "metadata": {
  "kernelspec": {
   "display_name": "Python 3",
   "language": "python",
   "name": "python3"
  },
  "language_info": {
   "codemirror_mode": {
    "name": "ipython",
    "version": 3
   },
   "file_extension": ".py",
   "mimetype": "text/x-python",
   "name": "python",
   "nbconvert_exporter": "python",
   "pygments_lexer": "ipython3",
   "version": "3.8.5"
  }
 },
 "nbformat": 4,
 "nbformat_minor": 4
}
