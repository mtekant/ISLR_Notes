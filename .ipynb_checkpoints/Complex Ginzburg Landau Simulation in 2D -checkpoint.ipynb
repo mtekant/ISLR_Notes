{
 "cells": [
  {
   "cell_type": "markdown",
   "metadata": {},
   "source": [
    "# Complex Ginzburg Landau Simulation in 2D\n",
    "\n",
    "### by Melis Tekant"
   ]
  },
  {
   "cell_type": "markdown",
   "metadata": {},
   "source": [
    "The complex Ginzburg-Landau equation (CGLe) is an extensively investigated nonlinear equation in physics. The dynamics arising from CGLe can exhibit waves, inward or outward moving spirals, and second-order phase transitions among other behaviors. Such time-dependent patterns can be found in a variety of physical systems such as Bose-Einstein condensates, superconductivity, and living matter. \n",
    "\n",
    "The equation can be expressed via\n",
    "\n",
    "$$ \\partial_t A = A +(1+i\\alpha)\\nabla^2 A - (1+i\\beta)|A|^2 A,$$\n",
    "\n",
    "where A is a time dependent complex function with real parameters $\\alpha$ and $\\beta$ which characterize linear and nonlinear dispersion. \n",
    "\n",
    "In this notebook, we will simulate the CGLe in two-dimensions, using periodic boundary conditions."
   ]
  },
  {
   "cell_type": "code",
   "execution_count": 231,
   "metadata": {},
   "outputs": [],
   "source": [
    "import pandas as pd\n",
    "import numpy as np\n",
    "pd.plotting.register_matplotlib_converters()\n",
    "import matplotlib.pyplot as plt\n",
    "from matplotlib import cm\n",
    "from matplotlib import animation\n",
    "from matplotlib.animation import FuncAnimation\n",
    "%matplotlib inline\n",
    "import seaborn as sns\n",
    "from scipy import stats\n",
    "from scipy import ndimage, misc\n",
    "import time as tm\n",
    "from random import seed\n",
    "from random import random"
   ]
  },
  {
   "cell_type": "code",
   "execution_count": 232,
   "metadata": {},
   "outputs": [],
   "source": [
    "# parameters\n",
    "alpha = 0\n",
    "beta = 1.5\n",
    "dt = 0.05\n",
    "t_tot = 50\n",
    "im = np.complex(0,1)\n",
    "\n",
    "#window size\n",
    "n = 2**6\n",
    "dx = 1\n",
    "xes = np.arange(0,n*dx,dx)\n",
    "xgrid = np.meshgrid(xes,xes)\n",
    "\n",
    "#initial A\n",
    "N = (n,n)\n",
    "A_0 = 0.1*np.random.random(N)-0.1/2"
   ]
  },
  {
   "cell_type": "code",
   "execution_count": 233,
   "metadata": {},
   "outputs": [],
   "source": [
    "def complex_lap(A,dx):\n",
    "    return (np.roll(A,+1,axis=0)+np.roll(A,-1,axis=0)+np.roll(A,+1,axis=1)+np.roll(A,-1,axis=1)-4*A)/dx**2\n",
    "\n"
   ]
  },
  {
   "cell_type": "code",
   "execution_count": 234,
   "metadata": {},
   "outputs": [],
   "source": [
    "def CGL_solver(A):\n",
    "    A_partialt = A + (1+im*alpha)*complex_lap(A,dx) - (1+im*beta)*abs(A)**2 *A\n",
    "    return A + A_partialt * dt"
   ]
  },
  {
   "cell_type": "code",
   "execution_count": 235,
   "metadata": {},
   "outputs": [],
   "source": [
    "t = 0\n",
    "A = A_0\n",
    "At = A_0\n",
    "\n",
    "while t<t_tot:\n",
    "    A = CGL_solver(A)\n",
    "    At = np.append(np.atleast_3d(At),np.atleast_3d(A),axis=2)\n",
    "    t+=dt\n",
    "    \n"
   ]
  },
  {
   "cell_type": "code",
   "execution_count": 238,
   "metadata": {},
   "outputs": [
    {
     "data": {
      "image/png": "[encoded data removed]",
      "text/plain": [
       "<Figure size 288x288 with 1 Axes>"
      ]
     },
     "metadata": {},
     "output_type": "display_data"
    }
   ],
   "source": [
    "fig = plt.figure(figsize=(4,4))\n",
    "ax = fig.add_axes([0, 0, 1, 1], frameon=False)\n",
    "ax.set_xlim(0, n+1), ax.set_xticks([])\n",
    "ax.set_ylim(0, n+1), ax.set_yticks([])\n",
    "#vid = ax.imshow(np.real(A_0),cmap='gray',vmin=-1,vmax=1)\n",
    "\n",
    "def update(frame_num):\n",
    "    frame_img = np.real(At[:,:,frame_num])\n",
    "    vid.set_data(frame_img)\n",
    "    return vid,\n",
    "\n",
    "#anim = animation.FuncAnimation(fig,update, frames = np.arange(0,len(At[1,1,:])),interval =1,blit=True )\n",
    "#anim.save('CGL.gif', fps=30, writer='Pillow')\n"
   ]
  },
  {
   "cell_type": "code",
   "execution_count": null,
   "metadata": {},
   "outputs": [],
   "source": []
  }
 ],
 "metadata": {
  "kernelspec": {
   "display_name": "Python 3",
   "language": "python",
   "name": "python3"
  },
  "language_info": {
   "codemirror_mode": {
    "name": "ipython",
    "version": 3
   },
   "file_extension": ".py",
   "mimetype": "text/x-python",
   "name": "python",
   "nbconvert_exporter": "python",
   "pygments_lexer": "ipython3",
   "version": "3.8.5"
  }
 },
 "nbformat": 4,
 "nbformat_minor": 4
}
